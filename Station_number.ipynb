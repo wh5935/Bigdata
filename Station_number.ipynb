{
 "cells": [
  {
   "cell_type": "code",
   "execution_count": 1,
   "metadata": {},
   "outputs": [],
   "source": [
    "import numpy as np\n",
    "import pandas as pd\n",
    "import seaborn as sns\n",
    "import matplotlib.pyplot as plt\n",
    "from matplotlib import style\n",
    "# plt.style.use('fivethirtyeight')\n",
    "# 그래프에서 격자로 숫자 범위가 눈에 잘 띄도록 ggplot 스타일을 사용\n",
    "plt.style.use('ggplot')\n",
    "sns.set(style='whitegrid',color_codes=True)\n",
    "%matplotlib inline  \n",
    "\n",
    "\n",
    "# 그래프에서 마이너스 폰트 깨지는 문제에 대한 대처\n",
    "plt.rcParams['axes.unicode_minus'] = False\n",
    "\n",
    "# matplotlib 한글 폰트 출력코드\n",
    "from matplotlib import font_manager, rc\n",
    "import platform\n",
    "try : \n",
    "    if platform.system() == 'Windows':\n",
    "    # 윈도우인 경우\n",
    "        font_name = font_manager.FontProperties(fname=\"c:/Windows/Fonts/malgun.ttf\").get_name()\n",
    "        rc('font', family=font_name)\n",
    "    else:    \n",
    "    # Mac 인 경우\n",
    "        rc('font', family='AppleGothic')\n",
    "except : \n",
    "    pass\n",
    "\n",
    "\n",
    "import warnings\n",
    "warnings.filterwarnings('ignore')\n",
    "\n",
    "import time, datetime\n"
   ]
  },
  {
   "cell_type": "code",
   "execution_count": 2,
   "metadata": {},
   "outputs": [],
   "source": [
    "from lightgbm import LGBMRegressor\n",
    "from xgboost import XGBRegressor\n",
    "from sklearn.ensemble import RandomForestRegressor, GradientBoostingRegressor\n",
    "from sklearn.model_selection import GridSearchCV, cross_val_score,train_test_split\n",
    "from sklearn.metrics import mean_squared_error"
   ]
  },
  {
   "cell_type": "code",
   "execution_count": 127,
   "metadata": {},
   "outputs": [],
   "source": [
    "train = pd.read_csv('중급자_train.csv')\n",
    "test = pd.read_csv('중급자_test.csv')\n"
   ]
  },
  {
   "cell_type": "code",
   "execution_count": 5,
   "metadata": {},
   "outputs": [],
   "source": [
    "# searchfor = ['공항', '병원','공단','아파트','시청','터미널','시장']\n",
    "\n",
    "# a['s_name'][a['s_name'].str.contains('|'.join(searchfor))]\n",
    "\n",
    "# a= pd.DataFrame(train['station_name'].value_counts())\n",
    "# a=a.reset_index()\n",
    "# a.columns=['s_name','geton_off']\n",
    "# a"
   ]
  },
  {
   "cell_type": "code",
   "execution_count": 6,
   "metadata": {},
   "outputs": [],
   "source": [
    "# b=a[a['geton_off']>=500]['station_name']\n",
    "\n",
    "# a= pd.DataFrame(train['station_name'].value_counts())\n",
    "# a=a.reset_index()\n",
    "# a.columns=['s_name','geton_off']\n",
    "# a\n",
    "# all = ['공항', '병원','공단','아파트','시청','터미널','시장','오거리','동']\n",
    "\n",
    "# train[train['station_name'].str.contains('|'.join(all))]\n",
    "\n",
    "# hospital = b[b.str.contains('병원')]\n",
    "\n",
    "# school = b[b.str.contains('학교')]\n",
    "\n"
   ]
  },
  {
   "cell_type": "markdown",
   "metadata": {},
   "source": [
    "### Start"
   ]
  },
  {
   "cell_type": "markdown",
   "metadata": {},
   "source": [
    "### 1. 합계와 평균 변수 생성 \n"
   ]
  },
  {
   "cell_type": "code",
   "execution_count": 149,
   "metadata": {},
   "outputs": [],
   "source": [
    "train['sum']=train['6_8_ride']+train['8_10_ride']+train['10_12_ride']+train['6_8_off']+train['8_10_off']+train['10_12_off']\n",
    "train['avg']=train['sum']/12"
   ]
  },
  {
   "cell_type": "code",
   "execution_count": 150,
   "metadata": {},
   "outputs": [],
   "source": [
    "station_sum_top=train.groupby(['station_code','station_name'])['sum','avg'].sum().sort_values(['sum'],ascending=False)"
   ]
  },
  {
   "cell_type": "code",
   "execution_count": 151,
   "metadata": {},
   "outputs": [
    {
     "data": {
      "text/html": [
       "<div>\n",
       "<style scoped>\n",
       "    .dataframe tbody tr th:only-of-type {\n",
       "        vertical-align: middle;\n",
       "    }\n",
       "\n",
       "    .dataframe tbody tr th {\n",
       "        vertical-align: top;\n",
       "    }\n",
       "\n",
       "    .dataframe thead th {\n",
       "        text-align: right;\n",
       "    }\n",
       "</style>\n",
       "<table border=\"1\" class=\"dataframe\">\n",
       "  <thead>\n",
       "    <tr style=\"text-align: right;\">\n",
       "      <th></th>\n",
       "      <th></th>\n",
       "      <th>sum</th>\n",
       "      <th>avg</th>\n",
       "    </tr>\n",
       "    <tr>\n",
       "      <th>station_code</th>\n",
       "      <th>station_name</th>\n",
       "      <th></th>\n",
       "      <th></th>\n",
       "    </tr>\n",
       "  </thead>\n",
       "  <tbody>\n",
       "    <tr>\n",
       "      <td>3270</td>\n",
       "      <td>제주시청(아라방면)</td>\n",
       "      <td>34695.0</td>\n",
       "      <td>2891.250000</td>\n",
       "    </tr>\n",
       "    <tr>\n",
       "      <td>3271</td>\n",
       "      <td>제주시청(광양방면)</td>\n",
       "      <td>31482.0</td>\n",
       "      <td>2623.500000</td>\n",
       "    </tr>\n",
       "    <tr>\n",
       "      <td>357</td>\n",
       "      <td>한라병원</td>\n",
       "      <td>30438.0</td>\n",
       "      <td>2536.500000</td>\n",
       "    </tr>\n",
       "    <tr>\n",
       "      <td>2972</td>\n",
       "      <td>제주국제공항(종점)</td>\n",
       "      <td>26776.0</td>\n",
       "      <td>2231.333333</td>\n",
       "    </tr>\n",
       "    <tr>\n",
       "      <td>358</td>\n",
       "      <td>한라병원</td>\n",
       "      <td>26076.0</td>\n",
       "      <td>2173.000000</td>\n",
       "    </tr>\n",
       "    <tr>\n",
       "      <td>1564</td>\n",
       "      <td>제주시외버스터미널</td>\n",
       "      <td>24234.0</td>\n",
       "      <td>2019.500000</td>\n",
       "    </tr>\n",
       "    <tr>\n",
       "      <td>149</td>\n",
       "      <td>제주버스터미널</td>\n",
       "      <td>21855.0</td>\n",
       "      <td>1821.250000</td>\n",
       "    </tr>\n",
       "    <tr>\n",
       "      <td>1957</td>\n",
       "      <td>중앙로터리</td>\n",
       "      <td>19569.0</td>\n",
       "      <td>1630.750000</td>\n",
       "    </tr>\n",
       "    <tr>\n",
       "      <td>638</td>\n",
       "      <td>제주국제공항(구제주방면)</td>\n",
       "      <td>18994.0</td>\n",
       "      <td>1582.833333</td>\n",
       "    </tr>\n",
       "    <tr>\n",
       "      <td>150</td>\n",
       "      <td>제주버스터미널</td>\n",
       "      <td>18746.0</td>\n",
       "      <td>1562.166667</td>\n",
       "    </tr>\n",
       "    <tr>\n",
       "      <td>320</td>\n",
       "      <td>제주도청신제주로터리</td>\n",
       "      <td>18313.0</td>\n",
       "      <td>1526.083333</td>\n",
       "    </tr>\n",
       "    <tr>\n",
       "      <td>1355</td>\n",
       "      <td>제주국제공항(신제주방면)</td>\n",
       "      <td>16962.0</td>\n",
       "      <td>1413.500000</td>\n",
       "    </tr>\n",
       "    <tr>\n",
       "      <td>321</td>\n",
       "      <td>제주도청신제주로터리</td>\n",
       "      <td>15851.0</td>\n",
       "      <td>1320.916667</td>\n",
       "    </tr>\n",
       "    <tr>\n",
       "      <td>1565</td>\n",
       "      <td>시외버스출발지(가상정류소)</td>\n",
       "      <td>15706.0</td>\n",
       "      <td>1308.833333</td>\n",
       "    </tr>\n",
       "    <tr>\n",
       "      <td>360</td>\n",
       "      <td>노형오거리</td>\n",
       "      <td>14148.0</td>\n",
       "      <td>1179.000000</td>\n",
       "    </tr>\n",
       "    <tr>\n",
       "      <td>3273</td>\n",
       "      <td>고산동산(광양방면)</td>\n",
       "      <td>14041.0</td>\n",
       "      <td>1170.083333</td>\n",
       "    </tr>\n",
       "    <tr>\n",
       "      <td>200</td>\n",
       "      <td>제주대학교</td>\n",
       "      <td>13908.0</td>\n",
       "      <td>1159.000000</td>\n",
       "    </tr>\n",
       "    <tr>\n",
       "      <td>284</td>\n",
       "      <td>중앙로(국민은행)</td>\n",
       "      <td>13908.0</td>\n",
       "      <td>1159.000000</td>\n",
       "    </tr>\n",
       "    <tr>\n",
       "      <td>1784</td>\n",
       "      <td>중앙로터리(동)</td>\n",
       "      <td>13796.0</td>\n",
       "      <td>1149.666667</td>\n",
       "    </tr>\n",
       "    <tr>\n",
       "      <td>268</td>\n",
       "      <td>화북남문</td>\n",
       "      <td>13760.0</td>\n",
       "      <td>1146.666667</td>\n",
       "    </tr>\n",
       "    <tr>\n",
       "      <td>2969</td>\n",
       "      <td>제주버스터미널(종점)</td>\n",
       "      <td>13655.0</td>\n",
       "      <td>1137.916667</td>\n",
       "    </tr>\n",
       "    <tr>\n",
       "      <td>6103005</td>\n",
       "      <td>서귀포시구시외버스터미널</td>\n",
       "      <td>13485.0</td>\n",
       "      <td>1123.750000</td>\n",
       "    </tr>\n",
       "    <tr>\n",
       "      <td>279</td>\n",
       "      <td>동문로터리(동문시장)</td>\n",
       "      <td>13248.0</td>\n",
       "      <td>1104.000000</td>\n",
       "    </tr>\n",
       "    <tr>\n",
       "      <td>447</td>\n",
       "      <td>제주고등학교/중흥S클래스</td>\n",
       "      <td>13073.0</td>\n",
       "      <td>1089.416667</td>\n",
       "    </tr>\n",
       "    <tr>\n",
       "      <td>3275</td>\n",
       "      <td>제주지방법원(광양방면)</td>\n",
       "      <td>12977.0</td>\n",
       "      <td>1081.416667</td>\n",
       "    </tr>\n",
       "    <tr>\n",
       "      <td>278</td>\n",
       "      <td>인화초등학교</td>\n",
       "      <td>12315.0</td>\n",
       "      <td>1026.250000</td>\n",
       "    </tr>\n",
       "    <tr>\n",
       "      <td>124</td>\n",
       "      <td>아라주공아파트</td>\n",
       "      <td>12187.0</td>\n",
       "      <td>1015.583333</td>\n",
       "    </tr>\n",
       "    <tr>\n",
       "      <td>3272</td>\n",
       "      <td>고산동산(아라방면)</td>\n",
       "      <td>11966.0</td>\n",
       "      <td>997.166667</td>\n",
       "    </tr>\n",
       "    <tr>\n",
       "      <td>283</td>\n",
       "      <td>중앙로(현대약국)</td>\n",
       "      <td>11586.0</td>\n",
       "      <td>965.500000</td>\n",
       "    </tr>\n",
       "    <tr>\n",
       "      <td>292</td>\n",
       "      <td>천수동</td>\n",
       "      <td>11532.0</td>\n",
       "      <td>961.000000</td>\n",
       "    </tr>\n",
       "    <tr>\n",
       "      <td>201</td>\n",
       "      <td>제주대학교</td>\n",
       "      <td>11327.0</td>\n",
       "      <td>943.916667</td>\n",
       "    </tr>\n",
       "    <tr>\n",
       "      <td>6100732</td>\n",
       "      <td>구터미널</td>\n",
       "      <td>11269.0</td>\n",
       "      <td>939.083333</td>\n",
       "    </tr>\n",
       "    <tr>\n",
       "      <td>3274</td>\n",
       "      <td>제주지방법원(아라방면)</td>\n",
       "      <td>11112.0</td>\n",
       "      <td>926.000000</td>\n",
       "    </tr>\n",
       "    <tr>\n",
       "      <td>280</td>\n",
       "      <td>동문로터리(동문시장)</td>\n",
       "      <td>11086.0</td>\n",
       "      <td>923.833333</td>\n",
       "    </tr>\n",
       "    <tr>\n",
       "      <td>311</td>\n",
       "      <td>제주여자상업고등학교</td>\n",
       "      <td>10511.0</td>\n",
       "      <td>875.916667</td>\n",
       "    </tr>\n",
       "    <tr>\n",
       "      <td>291</td>\n",
       "      <td>천수동</td>\n",
       "      <td>10475.0</td>\n",
       "      <td>872.916667</td>\n",
       "    </tr>\n",
       "    <tr>\n",
       "      <td>3278</td>\n",
       "      <td>제주여자중고등학교(아라방면)</td>\n",
       "      <td>10450.0</td>\n",
       "      <td>870.833333</td>\n",
       "    </tr>\n",
       "    <tr>\n",
       "      <td>3277</td>\n",
       "      <td>제주중앙여자고등학교(광양방면)</td>\n",
       "      <td>10148.0</td>\n",
       "      <td>845.666667</td>\n",
       "    </tr>\n",
       "    <tr>\n",
       "      <td>468</td>\n",
       "      <td>제주동중학교</td>\n",
       "      <td>10098.0</td>\n",
       "      <td>841.500000</td>\n",
       "    </tr>\n",
       "    <tr>\n",
       "      <td>2053</td>\n",
       "      <td>중문환승정류장(중문우체국)</td>\n",
       "      <td>10076.0</td>\n",
       "      <td>839.666667</td>\n",
       "    </tr>\n",
       "    <tr>\n",
       "      <td>2970</td>\n",
       "      <td>제주시외버스터미널(종점)</td>\n",
       "      <td>10014.0</td>\n",
       "      <td>834.500000</td>\n",
       "    </tr>\n",
       "    <tr>\n",
       "      <td>222</td>\n",
       "      <td>삼양동주민센터</td>\n",
       "      <td>9981.0</td>\n",
       "      <td>831.750000</td>\n",
       "    </tr>\n",
       "    <tr>\n",
       "      <td>164</td>\n",
       "      <td>광양사거리</td>\n",
       "      <td>9969.0</td>\n",
       "      <td>830.750000</td>\n",
       "    </tr>\n",
       "    <tr>\n",
       "      <td>273</td>\n",
       "      <td>동광양</td>\n",
       "      <td>9776.0</td>\n",
       "      <td>814.666667</td>\n",
       "    </tr>\n",
       "    <tr>\n",
       "      <td>3279</td>\n",
       "      <td>제주여자중고등학교(광양방면)</td>\n",
       "      <td>9665.0</td>\n",
       "      <td>805.416667</td>\n",
       "    </tr>\n",
       "    <tr>\n",
       "      <td>1130</td>\n",
       "      <td>한림환승정류장(한림리)</td>\n",
       "      <td>9460.0</td>\n",
       "      <td>788.333333</td>\n",
       "    </tr>\n",
       "    <tr>\n",
       "      <td>3276</td>\n",
       "      <td>제주중앙여자고등학교(아라방면)</td>\n",
       "      <td>9438.0</td>\n",
       "      <td>786.500000</td>\n",
       "    </tr>\n",
       "    <tr>\n",
       "      <td>319</td>\n",
       "      <td>연동주민센터</td>\n",
       "      <td>9408.0</td>\n",
       "      <td>784.000000</td>\n",
       "    </tr>\n",
       "    <tr>\n",
       "      <td>2746</td>\n",
       "      <td>서귀포등기소</td>\n",
       "      <td>9283.0</td>\n",
       "      <td>773.583333</td>\n",
       "    </tr>\n",
       "    <tr>\n",
       "      <td>282</td>\n",
       "      <td>중앙로(동문시장)</td>\n",
       "      <td>9251.0</td>\n",
       "      <td>770.916667</td>\n",
       "    </tr>\n",
       "    <tr>\n",
       "      <td>325</td>\n",
       "      <td>관덕정</td>\n",
       "      <td>9124.0</td>\n",
       "      <td>760.333333</td>\n",
       "    </tr>\n",
       "    <tr>\n",
       "      <td>274</td>\n",
       "      <td>동광양</td>\n",
       "      <td>8947.0</td>\n",
       "      <td>745.583333</td>\n",
       "    </tr>\n",
       "    <tr>\n",
       "      <td>148</td>\n",
       "      <td>남서광마을입구</td>\n",
       "      <td>8776.0</td>\n",
       "      <td>731.333333</td>\n",
       "    </tr>\n",
       "    <tr>\n",
       "      <td>121</td>\n",
       "      <td>제주대학교병원</td>\n",
       "      <td>8707.0</td>\n",
       "      <td>725.583333</td>\n",
       "    </tr>\n",
       "    <tr>\n",
       "      <td>120</td>\n",
       "      <td>제주대학교병원</td>\n",
       "      <td>8705.0</td>\n",
       "      <td>725.416667</td>\n",
       "    </tr>\n",
       "    <tr>\n",
       "      <td>151</td>\n",
       "      <td>한국병원</td>\n",
       "      <td>8626.0</td>\n",
       "      <td>718.833333</td>\n",
       "    </tr>\n",
       "    <tr>\n",
       "      <td>286</td>\n",
       "      <td>시민회관</td>\n",
       "      <td>8413.0</td>\n",
       "      <td>701.083333</td>\n",
       "    </tr>\n",
       "    <tr>\n",
       "      <td>192</td>\n",
       "      <td>함덕환승정류장(함덕해수욕장)</td>\n",
       "      <td>8208.0</td>\n",
       "      <td>684.000000</td>\n",
       "    </tr>\n",
       "    <tr>\n",
       "      <td>1953</td>\n",
       "      <td>제주은행</td>\n",
       "      <td>7811.0</td>\n",
       "      <td>650.916667</td>\n",
       "    </tr>\n",
       "    <tr>\n",
       "      <td>1393</td>\n",
       "      <td>화북휴먼시아</td>\n",
       "      <td>7755.0</td>\n",
       "      <td>646.250000</td>\n",
       "    </tr>\n",
       "    <tr>\n",
       "      <td>2052</td>\n",
       "      <td>중문환승정류장(중문우체국)</td>\n",
       "      <td>7681.0</td>\n",
       "      <td>640.083333</td>\n",
       "    </tr>\n",
       "    <tr>\n",
       "      <td>324</td>\n",
       "      <td>관덕정</td>\n",
       "      <td>7671.0</td>\n",
       "      <td>639.250000</td>\n",
       "    </tr>\n",
       "    <tr>\n",
       "      <td>186</td>\n",
       "      <td>은남동</td>\n",
       "      <td>7666.0</td>\n",
       "      <td>638.833333</td>\n",
       "    </tr>\n",
       "    <tr>\n",
       "      <td>285</td>\n",
       "      <td>시민회관</td>\n",
       "      <td>7580.0</td>\n",
       "      <td>631.666667</td>\n",
       "    </tr>\n",
       "    <tr>\n",
       "      <td>313</td>\n",
       "      <td>제주동초등학교</td>\n",
       "      <td>7347.0</td>\n",
       "      <td>612.250000</td>\n",
       "    </tr>\n",
       "    <tr>\n",
       "      <td>6103001</td>\n",
       "      <td>제주월드컵경기장</td>\n",
       "      <td>7160.0</td>\n",
       "      <td>596.666667</td>\n",
       "    </tr>\n",
       "    <tr>\n",
       "      <td>1129</td>\n",
       "      <td>한림환승정류장(한림리)</td>\n",
       "      <td>7039.0</td>\n",
       "      <td>586.583333</td>\n",
       "    </tr>\n",
       "    <tr>\n",
       "      <td>362</td>\n",
       "      <td>월랑마을남녕고등학교</td>\n",
       "      <td>6973.0</td>\n",
       "      <td>581.083333</td>\n",
       "    </tr>\n",
       "    <tr>\n",
       "      <td>272</td>\n",
       "      <td>광양</td>\n",
       "      <td>6914.0</td>\n",
       "      <td>576.166667</td>\n",
       "    </tr>\n",
       "    <tr>\n",
       "      <td>1699</td>\n",
       "      <td>제주월드컵경기장서귀포버스터미널</td>\n",
       "      <td>6771.0</td>\n",
       "      <td>564.250000</td>\n",
       "    </tr>\n",
       "    <tr>\n",
       "      <td>277</td>\n",
       "      <td>인화초등학교</td>\n",
       "      <td>6740.0</td>\n",
       "      <td>561.666667</td>\n",
       "    </tr>\n",
       "    <tr>\n",
       "      <td>3280</td>\n",
       "      <td>남국원(아라방면)</td>\n",
       "      <td>6695.0</td>\n",
       "      <td>557.916667</td>\n",
       "    </tr>\n",
       "    <tr>\n",
       "      <td>323</td>\n",
       "      <td>서문시장</td>\n",
       "      <td>6670.0</td>\n",
       "      <td>555.833333</td>\n",
       "    </tr>\n",
       "    <tr>\n",
       "      <td>188</td>\n",
       "      <td>도호동</td>\n",
       "      <td>6613.0</td>\n",
       "      <td>551.083333</td>\n",
       "    </tr>\n",
       "    <tr>\n",
       "      <td>166</td>\n",
       "      <td>탐라장애인종합복지관</td>\n",
       "      <td>6573.0</td>\n",
       "      <td>547.750000</td>\n",
       "    </tr>\n",
       "    <tr>\n",
       "      <td>304</td>\n",
       "      <td>용문사거리</td>\n",
       "      <td>6554.0</td>\n",
       "      <td>546.166667</td>\n",
       "    </tr>\n",
       "    <tr>\n",
       "      <td>361</td>\n",
       "      <td>남녕고등학교</td>\n",
       "      <td>6502.0</td>\n",
       "      <td>541.833333</td>\n",
       "    </tr>\n",
       "    <tr>\n",
       "      <td>467</td>\n",
       "      <td>제주동중학교</td>\n",
       "      <td>6388.0</td>\n",
       "      <td>532.333333</td>\n",
       "    </tr>\n",
       "    <tr>\n",
       "      <td>391</td>\n",
       "      <td>삼무공원사거리</td>\n",
       "      <td>6341.0</td>\n",
       "      <td>528.416667</td>\n",
       "    </tr>\n",
       "    <tr>\n",
       "      <td>131</td>\n",
       "      <td>아라동주민센터</td>\n",
       "      <td>6313.0</td>\n",
       "      <td>526.083333</td>\n",
       "    </tr>\n",
       "    <tr>\n",
       "      <td>3281</td>\n",
       "      <td>남국원(광양방면)</td>\n",
       "      <td>6310.0</td>\n",
       "      <td>525.833333</td>\n",
       "    </tr>\n",
       "    <tr>\n",
       "      <td>122</td>\n",
       "      <td>인다마을</td>\n",
       "      <td>6226.0</td>\n",
       "      <td>518.833333</td>\n",
       "    </tr>\n",
       "    <tr>\n",
       "      <td>305</td>\n",
       "      <td>용문사거리</td>\n",
       "      <td>6225.0</td>\n",
       "      <td>518.750000</td>\n",
       "    </tr>\n",
       "    <tr>\n",
       "      <td>241</td>\n",
       "      <td>화북주공아파트</td>\n",
       "      <td>6177.0</td>\n",
       "      <td>514.750000</td>\n",
       "    </tr>\n",
       "    <tr>\n",
       "      <td>147</td>\n",
       "      <td>용천마을</td>\n",
       "      <td>6157.0</td>\n",
       "      <td>513.083333</td>\n",
       "    </tr>\n",
       "    <tr>\n",
       "      <td>591</td>\n",
       "      <td>원노형</td>\n",
       "      <td>6122.0</td>\n",
       "      <td>510.166667</td>\n",
       "    </tr>\n",
       "    <tr>\n",
       "      <td>2495</td>\n",
       "      <td>동광환승정류장4(제주방면)</td>\n",
       "      <td>6120.0</td>\n",
       "      <td>510.000000</td>\n",
       "    </tr>\n",
       "    <tr>\n",
       "      <td>431</td>\n",
       "      <td>정존마을</td>\n",
       "      <td>6102.0</td>\n",
       "      <td>508.500000</td>\n",
       "    </tr>\n",
       "    <tr>\n",
       "      <td>26</td>\n",
       "      <td>하귀초등학교</td>\n",
       "      <td>6032.0</td>\n",
       "      <td>502.666667</td>\n",
       "    </tr>\n",
       "    <tr>\n",
       "      <td>306</td>\n",
       "      <td>용담1동주민센터</td>\n",
       "      <td>6006.0</td>\n",
       "      <td>500.500000</td>\n",
       "    </tr>\n",
       "    <tr>\n",
       "      <td>269</td>\n",
       "      <td>삼성초등학교</td>\n",
       "      <td>5993.0</td>\n",
       "      <td>499.416667</td>\n",
       "    </tr>\n",
       "    <tr>\n",
       "      <td>2617</td>\n",
       "      <td>성산환승정류장(고성리한국물류)</td>\n",
       "      <td>5990.0</td>\n",
       "      <td>499.166667</td>\n",
       "    </tr>\n",
       "    <tr>\n",
       "      <td>466</td>\n",
       "      <td>화북남문</td>\n",
       "      <td>5989.0</td>\n",
       "      <td>499.083333</td>\n",
       "    </tr>\n",
       "    <tr>\n",
       "      <td>187</td>\n",
       "      <td>은남동</td>\n",
       "      <td>5956.0</td>\n",
       "      <td>496.333333</td>\n",
       "    </tr>\n",
       "    <tr>\n",
       "      <td>152</td>\n",
       "      <td>한국병원</td>\n",
       "      <td>5888.0</td>\n",
       "      <td>490.666667</td>\n",
       "    </tr>\n",
       "    <tr>\n",
       "      <td>125</td>\n",
       "      <td>아라주공아파트</td>\n",
       "      <td>5858.0</td>\n",
       "      <td>488.166667</td>\n",
       "    </tr>\n",
       "    <tr>\n",
       "      <td>443</td>\n",
       "      <td>제주한라대학교</td>\n",
       "      <td>5747.0</td>\n",
       "      <td>478.916667</td>\n",
       "    </tr>\n",
       "    <tr>\n",
       "      <td>432</td>\n",
       "      <td>정존마을</td>\n",
       "      <td>5741.0</td>\n",
       "      <td>478.416667</td>\n",
       "    </tr>\n",
       "    <tr>\n",
       "      <td>9</td>\n",
       "      <td>노형우체국</td>\n",
       "      <td>5639.0</td>\n",
       "      <td>469.916667</td>\n",
       "    </tr>\n",
       "    <tr>\n",
       "      <td>390</td>\n",
       "      <td>삼무공원사거리</td>\n",
       "      <td>5523.0</td>\n",
       "      <td>460.250000</td>\n",
       "    </tr>\n",
       "  </tbody>\n",
       "</table>\n",
       "</div>"
      ],
      "text/plain": [
       "                                   sum          avg\n",
       "station_code station_name                          \n",
       "3270         제주시청(아라방면)        34695.0  2891.250000\n",
       "3271         제주시청(광양방면)        31482.0  2623.500000\n",
       "357          한라병원              30438.0  2536.500000\n",
       "2972         제주국제공항(종점)        26776.0  2231.333333\n",
       "358          한라병원              26076.0  2173.000000\n",
       "1564         제주시외버스터미널         24234.0  2019.500000\n",
       "149          제주버스터미널           21855.0  1821.250000\n",
       "1957         중앙로터리             19569.0  1630.750000\n",
       "638          제주국제공항(구제주방면)     18994.0  1582.833333\n",
       "150          제주버스터미널           18746.0  1562.166667\n",
       "320          제주도청신제주로터리        18313.0  1526.083333\n",
       "1355         제주국제공항(신제주방면)     16962.0  1413.500000\n",
       "321          제주도청신제주로터리        15851.0  1320.916667\n",
       "1565         시외버스출발지(가상정류소)    15706.0  1308.833333\n",
       "360          노형오거리             14148.0  1179.000000\n",
       "3273         고산동산(광양방면)        14041.0  1170.083333\n",
       "200          제주대학교             13908.0  1159.000000\n",
       "284          중앙로(국민은행)         13908.0  1159.000000\n",
       "1784         중앙로터리(동)          13796.0  1149.666667\n",
       "268          화북남문              13760.0  1146.666667\n",
       "2969         제주버스터미널(종점)       13655.0  1137.916667\n",
       "6103005      서귀포시구시외버스터미널      13485.0  1123.750000\n",
       "279          동문로터리(동문시장)       13248.0  1104.000000\n",
       "447          제주고등학교/중흥S클래스     13073.0  1089.416667\n",
       "3275         제주지방법원(광양방면)      12977.0  1081.416667\n",
       "278          인화초등학교            12315.0  1026.250000\n",
       "124          아라주공아파트           12187.0  1015.583333\n",
       "3272         고산동산(아라방면)        11966.0   997.166667\n",
       "283          중앙로(현대약국)         11586.0   965.500000\n",
       "292          천수동               11532.0   961.000000\n",
       "201          제주대학교             11327.0   943.916667\n",
       "6100732      구터미널              11269.0   939.083333\n",
       "3274         제주지방법원(아라방면)      11112.0   926.000000\n",
       "280          동문로터리(동문시장)       11086.0   923.833333\n",
       "311          제주여자상업고등학교        10511.0   875.916667\n",
       "291          천수동               10475.0   872.916667\n",
       "3278         제주여자중고등학교(아라방면)   10450.0   870.833333\n",
       "3277         제주중앙여자고등학교(광양방면)  10148.0   845.666667\n",
       "468          제주동중학교            10098.0   841.500000\n",
       "2053         중문환승정류장(중문우체국)    10076.0   839.666667\n",
       "2970         제주시외버스터미널(종점)     10014.0   834.500000\n",
       "222          삼양동주민센터            9981.0   831.750000\n",
       "164          광양사거리              9969.0   830.750000\n",
       "273          동광양                9776.0   814.666667\n",
       "3279         제주여자중고등학교(광양방면)    9665.0   805.416667\n",
       "1130         한림환승정류장(한림리)       9460.0   788.333333\n",
       "3276         제주중앙여자고등학교(아라방면)   9438.0   786.500000\n",
       "319          연동주민센터             9408.0   784.000000\n",
       "2746         서귀포등기소             9283.0   773.583333\n",
       "282          중앙로(동문시장)          9251.0   770.916667\n",
       "325          관덕정                9124.0   760.333333\n",
       "274          동광양                8947.0   745.583333\n",
       "148          남서광마을입구            8776.0   731.333333\n",
       "121          제주대학교병원            8707.0   725.583333\n",
       "120          제주대학교병원            8705.0   725.416667\n",
       "151          한국병원               8626.0   718.833333\n",
       "286          시민회관               8413.0   701.083333\n",
       "192          함덕환승정류장(함덕해수욕장)    8208.0   684.000000\n",
       "1953         제주은행               7811.0   650.916667\n",
       "1393         화북휴먼시아             7755.0   646.250000\n",
       "2052         중문환승정류장(중문우체국)     7681.0   640.083333\n",
       "324          관덕정                7671.0   639.250000\n",
       "186          은남동                7666.0   638.833333\n",
       "285          시민회관               7580.0   631.666667\n",
       "313          제주동초등학교            7347.0   612.250000\n",
       "6103001      제주월드컵경기장           7160.0   596.666667\n",
       "1129         한림환승정류장(한림리)       7039.0   586.583333\n",
       "362          월랑마을남녕고등학교         6973.0   581.083333\n",
       "272          광양                 6914.0   576.166667\n",
       "1699         제주월드컵경기장서귀포버스터미널   6771.0   564.250000\n",
       "277          인화초등학교             6740.0   561.666667\n",
       "3280         남국원(아라방면)          6695.0   557.916667\n",
       "323          서문시장               6670.0   555.833333\n",
       "188          도호동                6613.0   551.083333\n",
       "166          탐라장애인종합복지관         6573.0   547.750000\n",
       "304          용문사거리              6554.0   546.166667\n",
       "361          남녕고등학교             6502.0   541.833333\n",
       "467          제주동중학교             6388.0   532.333333\n",
       "391          삼무공원사거리            6341.0   528.416667\n",
       "131          아라동주민센터            6313.0   526.083333\n",
       "3281         남국원(광양방면)          6310.0   525.833333\n",
       "122          인다마을               6226.0   518.833333\n",
       "305          용문사거리              6225.0   518.750000\n",
       "241          화북주공아파트            6177.0   514.750000\n",
       "147          용천마을               6157.0   513.083333\n",
       "591          원노형                6122.0   510.166667\n",
       "2495         동광환승정류장4(제주방면)     6120.0   510.000000\n",
       "431          정존마을               6102.0   508.500000\n",
       "26           하귀초등학교             6032.0   502.666667\n",
       "306          용담1동주민센터           6006.0   500.500000\n",
       "269          삼성초등학교             5993.0   499.416667\n",
       "2617         성산환승정류장(고성리한국물류)   5990.0   499.166667\n",
       "466          화북남문               5989.0   499.083333\n",
       "187          은남동                5956.0   496.333333\n",
       "152          한국병원               5888.0   490.666667\n",
       "125          아라주공아파트            5858.0   488.166667\n",
       "443          제주한라대학교            5747.0   478.916667\n",
       "432          정존마을               5741.0   478.416667\n",
       "9            노형우체국              5639.0   469.916667\n",
       "390          삼무공원사거리            5523.0   460.250000"
      ]
     },
     "execution_count": 151,
     "metadata": {},
     "output_type": "execute_result"
    }
   ],
   "source": [
    "#상위 100개 \n",
    "pd.set_option('display.max_rows', 100)\n",
    "station_sum_top.head(100)"
   ]
  },
  {
   "cell_type": "code",
   "execution_count": 152,
   "metadata": {},
   "outputs": [],
   "source": [
    "#인덱스를 칼럼으로 되돌리기\n",
    "station_sum_top=station_sum_top.reset_index(['station_code','station_name'])"
   ]
  },
  {
   "cell_type": "code",
   "execution_count": 153,
   "metadata": {},
   "outputs": [],
   "source": [
    "# 저장 및 불러오기\n",
    "station_sum_top.to_csv('station_sum_top.csv',index=False)\n",
    "station_sum_top=pd.read_csv('station_sum_top.csv')"
   ]
  },
  {
   "cell_type": "markdown",
   "metadata": {},
   "source": [
    "### 2. 리스트에 있는 단어들로 데이터 프레임 만들기"
   ]
  },
  {
   "cell_type": "code",
   "execution_count": 590,
   "metadata": {},
   "outputs": [],
   "source": [
    "#['학교', '공항', '터미널', '오거리', '병원', '아파트', '환승', '로터리','중앙','마트','제주','시장','사거리','약국','공단']\n",
    "name_list=station_sum_top['station_name'].tolist()\n",
    "# name_list"
   ]
  },
  {
   "cell_type": "code",
   "execution_count": 597,
   "metadata": {},
   "outputs": [],
   "source": [
    "name_keyword=['중앙','시장','공단','사거리']\n",
    "# name_keyword"
   ]
  },
  {
   "cell_type": "code",
   "execution_count": 598,
   "metadata": {},
   "outputs": [],
   "source": [
    "#리스트에 있는 단어 1 없으면 0\n",
    "train['have_keyword'] = np.where(train['station_name'].str.contains('|'.join(name_keyword)),1,0)"
   ]
  },
  {
   "cell_type": "code",
   "execution_count": 599,
   "metadata": {},
   "outputs": [],
   "source": [
    "# keyword 보유로 df 분리함\n",
    "have_keyword_df = train[train['have_keyword']== 1]\n",
    "not_keyword_df = train[train['have_keyword']== 0]"
   ]
  },
  {
   "cell_type": "code",
   "execution_count": 600,
   "metadata": {
    "scrolled": true
   },
   "outputs": [
    {
     "name": "stdout",
     "output_type": "stream",
     "text": [
      "(24659, 52)\n",
      "(390764, 52)\n"
     ]
    }
   ],
   "source": [
    "#shape 확인\n",
    "print(have_keyword_df.shape)\n",
    "print(not_keyword_df.shape)"
   ]
  },
  {
   "cell_type": "markdown",
   "metadata": {},
   "source": [
    "### 3. 상관계수 및 회귀계수 그려보기"
   ]
  },
  {
   "cell_type": "code",
   "execution_count": 601,
   "metadata": {},
   "outputs": [
    {
     "data": {
      "text/plain": [
       "0.7639434595423523"
      ]
     },
     "execution_count": 601,
     "metadata": {},
     "output_type": "execute_result"
    }
   ],
   "source": [
    "have_keyword_df['sum'].corr(have_keyword_df['18~20_ride'])  #['중앙','시장','공단','사거리']"
   ]
  },
  {
   "cell_type": "code",
   "execution_count": 602,
   "metadata": {},
   "outputs": [
    {
     "data": {
      "text/plain": [
       "0.6175266604358565"
      ]
     },
     "execution_count": 602,
     "metadata": {},
     "output_type": "execute_result"
    }
   ],
   "source": [
    "not_keyword_df['sum'].corr(not_keyword_df['18~20_ride'])"
   ]
  },
  {
   "cell_type": "code",
   "execution_count": 450,
   "metadata": {},
   "outputs": [
    {
     "data": {
      "text/plain": [
       "0.7639434595423523"
      ]
     },
     "execution_count": 450,
     "metadata": {},
     "output_type": "execute_result"
    }
   ],
   "source": [
    "have_keyword_df['sum'].corr(have_keyword_df['18~20_ride']) #0.7639434595423523 ['중앙','시장','공단','사거리']"
   ]
  },
  {
   "cell_type": "code",
   "execution_count": 451,
   "metadata": {},
   "outputs": [
    {
     "data": {
      "text/plain": [
       "0.6175266604358565"
      ]
     },
     "execution_count": 451,
     "metadata": {},
     "output_type": "execute_result"
    }
   ],
   "source": [
    "not_keyword_df['sum'].corr(not_keyword_df['18~20_ride']) #0.6147442016376625"
   ]
  },
  {
   "cell_type": "code",
   "execution_count": 395,
   "metadata": {},
   "outputs": [
    {
     "data": {
      "text/plain": [
       "0.7589699533389737"
      ]
     },
     "execution_count": 395,
     "metadata": {},
     "output_type": "execute_result"
    }
   ],
   "source": [
    "have_keyword_df['sum'].corr(have_keyword_df['18~20_ride']) #0.7589699533389737 ['중앙','시장','공단']"
   ]
  },
  {
   "cell_type": "code",
   "execution_count": 396,
   "metadata": {},
   "outputs": [
    {
     "data": {
      "text/plain": [
       "0.6195110234853409"
      ]
     },
     "execution_count": 396,
     "metadata": {},
     "output_type": "execute_result"
    }
   ],
   "source": [
    "not_keyword_df['sum'].corr(not_keyword_df['18~20_ride'])#0.6195110234853409"
   ]
  },
  {
   "cell_type": "code",
   "execution_count": 354,
   "metadata": {},
   "outputs": [
    {
     "data": {
      "text/plain": [
       "0.75850392110679"
      ]
     },
     "execution_count": 354,
     "metadata": {},
     "output_type": "execute_result"
    }
   ],
   "source": [
    "have_keyword_df['sum'].corr(have_keyword_df['18~20_ride']) # 075850392110679 ['중앙','시장']\n",
    "# have_keyword_df.corrwith(have_keyword_df['18~20_ride'])"
   ]
  },
  {
   "cell_type": "code",
   "execution_count": 353,
   "metadata": {},
   "outputs": [],
   "source": [
    "not_keyword_df['sum'].corr(not_keyword_df['18~20_ride']) #0.6195632530468766"
   ]
  },
  {
   "cell_type": "code",
   "execution_count": 343,
   "metadata": {},
   "outputs": [
    {
     "data": {
      "text/plain": [
       "0.6901797586536403"
      ]
     },
     "execution_count": 343,
     "metadata": {},
     "output_type": "execute_result"
    }
   ],
   "source": [
    "have_keyword_df['sum'].corr(have_keyword_df['18~20_ride']) #0.6901797586536403['공항','터미널','환승','공단','로터리','중앙','시장']"
   ]
  },
  {
   "cell_type": "code",
   "execution_count": 344,
   "metadata": {},
   "outputs": [
    {
     "data": {
      "text/plain": [
       "0.594581969161013"
      ]
     },
     "execution_count": 344,
     "metadata": {},
     "output_type": "execute_result"
    }
   ],
   "source": [
    "not_keyword_df['sum'].corr(not_keyword_df['18~20_ride']) #0.594581969161013"
   ]
  },
  {
   "cell_type": "code",
   "execution_count": 320,
   "metadata": {},
   "outputs": [
    {
     "data": {
      "text/plain": [
       "0.6890910442251131"
      ]
     },
     "execution_count": 320,
     "metadata": {},
     "output_type": "execute_result"
    }
   ],
   "source": [
    "have_keyword_df['sum'].corr(have_keyword_df['18~20_ride'])# 0.689091044225113 ['공항','터미널','환승','공단','로터리','중앙']"
   ]
  },
  {
   "cell_type": "code",
   "execution_count": 321,
   "metadata": {},
   "outputs": [
    {
     "data": {
      "text/plain": [
       "0.5944055162725489"
      ]
     },
     "execution_count": 321,
     "metadata": {},
     "output_type": "execute_result"
    }
   ],
   "source": [
    "not_keyword_df['sum'].corr(not_keyword_df['18~20_ride']) #0.5944055162725489"
   ]
  },
  {
   "cell_type": "code",
   "execution_count": 303,
   "metadata": {},
   "outputs": [
    {
     "data": {
      "text/plain": [
       "0.6813977247836832"
      ]
     },
     "execution_count": 303,
     "metadata": {},
     "output_type": "execute_result"
    }
   ],
   "source": [
    "have_keyword_df['sum'].corr(have_keyword_df['18~20_ride']) #0.6813977247836832 ['공항','터미널','환승','공단','로터리']"
   ]
  },
  {
   "cell_type": "code",
   "execution_count": 304,
   "metadata": {},
   "outputs": [
    {
     "data": {
      "text/plain": [
       "0.6036562272923014"
      ]
     },
     "execution_count": 304,
     "metadata": {},
     "output_type": "execute_result"
    }
   ],
   "source": [
    "not_keyword_df['sum'].corr(not_keyword_df['18~20_ride'])  #0.6036562272923014"
   ]
  },
  {
   "cell_type": "code",
   "execution_count": 274,
   "metadata": {},
   "outputs": [
    {
     "data": {
      "text/plain": [
       "0.6718813123728677"
      ]
     },
     "execution_count": 274,
     "metadata": {},
     "output_type": "execute_result"
    }
   ],
   "source": [
    "have_keyword_df['sum'].corr(have_keyword_df['18~20_ride']) #0.6718813123728677 ['공항','터미널','환승','공단']"
   ]
  },
  {
   "cell_type": "code",
   "execution_count": 275,
   "metadata": {},
   "outputs": [
    {
     "data": {
      "text/plain": [
       "0.6151378301128935"
      ]
     },
     "execution_count": 275,
     "metadata": {},
     "output_type": "execute_result"
    }
   ],
   "source": [
    "not_keyword_df['sum'].corr(not_keyword_df['18~20_ride']) 0.6151378301128935"
   ]
  },
  {
   "cell_type": "code",
   "execution_count": 263,
   "metadata": {},
   "outputs": [
    {
     "data": {
      "text/plain": [
       "0.6712743978189013"
      ]
     },
     "execution_count": 263,
     "metadata": {},
     "output_type": "execute_result"
    }
   ],
   "source": [
    "have_keyword_df['sum'].corr(have_keyword_df['18~20_ride'])  #0.6712743978189013 [ '공항','터미널','환승']"
   ]
  },
  {
   "cell_type": "code",
   "execution_count": 264,
   "metadata": {},
   "outputs": [
    {
     "data": {
      "text/plain": [
       "0.6152019898704613"
      ]
     },
     "execution_count": 264,
     "metadata": {},
     "output_type": "execute_result"
    }
   ],
   "source": [
    "not_keyword_df['sum'].corr(not_keyword_df['18~20_ride']) #0.6152019898704613 "
   ]
  },
  {
   "cell_type": "code",
   "execution_count": 252,
   "metadata": {},
   "outputs": [
    {
     "data": {
      "text/plain": [
       "id                    0.009679\n",
       "day                   0.015303\n",
       "holi                 -0.040267\n",
       "bus_route_id         -0.123615\n",
       "in_out                     NaN\n",
       "station_code         -0.028239\n",
       "latitude              0.007098\n",
       "longitude            -0.042192\n",
       "6~7_ride              0.151528\n",
       "7~8_ride              0.284767\n",
       "8~9_ride              0.417574\n",
       "9~10_ride             0.465184\n",
       "10~11_ride            0.486450\n",
       "11~12_ride            0.492322\n",
       "6~7_takeoff           0.039709\n",
       "7~8_takeoff           0.153452\n",
       "8~9_takeoff           0.179805\n",
       "9~10_takeoff          0.168410\n",
       "10~11_takeoff         0.200657\n",
       "11~12_takeoff         0.192122\n",
       "18~20_ride            1.000000\n",
       "dis_jejusi           -0.010522\n",
       "dis_seoquipo          0.001865\n",
       "dis_jeju             -0.007517\n",
       "dis_gosan            -0.038713\n",
       "dis_seongsan          0.050189\n",
       "dis_po                0.005268\n",
       "temp                 -0.019527\n",
       "rain                  0.001829\n",
       "wind                  0.004344\n",
       "weekday_0             0.017033\n",
       "weekday_1             0.021046\n",
       "weekday_2             0.021658\n",
       "weekday_3             0.005168\n",
       "weekday_4            -0.016569\n",
       "weekday_5            -0.026717\n",
       "weekday_6            -0.025835\n",
       "dist_name_gosan       0.046395\n",
       "dist_name_jeju       -0.003990\n",
       "dist_name_po         -0.014150\n",
       "dist_name_seongsan   -0.031524\n",
       "6_8_ride              0.279777\n",
       "8_10_ride             0.523205\n",
       "10_12_ride            0.569126\n",
       "6_8_off               0.144932\n",
       "8_10_off              0.215141\n",
       "10_12_off             0.235103\n",
       "sum                   0.584369\n",
       "avg                   0.584369\n",
       "have_keyword               NaN\n",
       "dtype: float64"
      ]
     },
     "execution_count": 252,
     "metadata": {},
     "output_type": "execute_result"
    }
   ],
   "source": [
    "airport = have_keyword_df.corrwith(have_keyword_df['18~20_ride'])\n",
    "airport"
   ]
  },
  {
   "cell_type": "code",
   "execution_count": null,
   "metadata": {},
   "outputs": [],
   "source": []
  },
  {
   "cell_type": "code",
   "execution_count": null,
   "metadata": {},
   "outputs": [],
   "source": []
  }
 ],
 "metadata": {
  "kernelspec": {
   "display_name": "Python 3",
   "language": "python",
   "name": "python3"
  },
  "language_info": {
   "codemirror_mode": {
    "name": "ipython",
    "version": 3
   },
   "file_extension": ".py",
   "mimetype": "text/x-python",
   "name": "python",
   "nbconvert_exporter": "python",
   "pygments_lexer": "ipython3",
   "version": "3.7.4"
  }
 },
 "nbformat": 4,
 "nbformat_minor": 2
}
